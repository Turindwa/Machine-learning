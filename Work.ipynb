{
 "cells": [
  {
   "cell_type": "code",
   "execution_count": 9,
   "metadata": {},
   "outputs": [],
   "source": [
    "import pandas as pd\n",
    "import numpy as np"
   ]
  },
  {
   "cell_type": "code",
   "execution_count": 10,
   "metadata": {},
   "outputs": [
    {
     "name": "stdout",
     "output_type": "stream",
     "text": [
      "   Region   Age   Income Online Shopper\n",
      "0   India  49.0  86400.0             No\n",
      "1  Brazil  32.0  57600.0            Yes\n",
      "2     USA  35.0  64800.0             No\n",
      "3  Brazil  43.0  73200.0             No\n",
      "4     USA  45.0      NaN            Yes\n",
      "5   India  40.0  69600.0            Yes\n",
      "6  Brazil   NaN  62400.0             No\n",
      "7   India  53.0  94800.0            Yes\n",
      "8     USA  55.0  99600.0             No\n",
      "9   India  42.0  80400.0            Yes\n"
     ]
    }
   ],
   "source": [
    "df = pd.read_excel(\"Data.xlsx\")\n",
    "print(df)"
   ]
  },
  {
   "cell_type": "code",
   "execution_count": 11,
   "metadata": {},
   "outputs": [
    {
     "name": "stdout",
     "output_type": "stream",
     "text": [
      "Region            0\n",
      "Age               1\n",
      "Income            1\n",
      "Online Shopper    0\n",
      "dtype: int64\n"
     ]
    }
   ],
   "source": [
    "#checking for the missing values\n",
    "print(df.isnull().sum())"
   ]
  },
  {
   "cell_type": "code",
   "execution_count": 12,
   "metadata": {},
   "outputs": [
    {
     "name": "stdout",
     "output_type": "stream",
     "text": [
      "Empty DataFrame\n",
      "Columns: [Region, Age, Income, Online Shopper]\n",
      "Index: []\n"
     ]
    }
   ],
   "source": [
    "#checking for the duplicated rows\n",
    "duplicated_row = df[df.duplicated()]\n",
    "print(duplicated_row)"
   ]
  },
  {
   "cell_type": "code",
   "execution_count": 13,
   "metadata": {},
   "outputs": [
    {
     "name": "stdout",
     "output_type": "stream",
     "text": [
      "Region             object\n",
      "Age               float64\n",
      "Income            float64\n",
      "Online Shopper     object\n",
      "dtype: object\n"
     ]
    }
   ],
   "source": [
    "#checking for datatypes of columns\n",
    "print(df.dtypes)"
   ]
  },
  {
   "cell_type": "markdown",
   "metadata": {},
   "source": [
    "DATA CLEANING"
   ]
  },
  {
   "cell_type": "code",
   "execution_count": 19,
   "metadata": {},
   "outputs": [
    {
     "name": "stdout",
     "output_type": "stream",
     "text": [
      "    Age   Income  Online Shopper_0  Online Shopper_1  Region_Brazil  \\\n",
      "0  49.0  86400.0                 0                 1          False   \n",
      "1  32.0  57600.0                 1                 0           True   \n",
      "2  35.0  64800.0                 0                 1          False   \n",
      "3  43.0  73200.0                 0                 1           True   \n",
      "4  45.0      NaN                 1                 0          False   \n",
      "5  40.0  69600.0                 1                 0          False   \n",
      "6   NaN  62400.0                 0                 1           True   \n",
      "7  53.0  94800.0                 1                 0          False   \n",
      "8  55.0  99600.0                 0                 1          False   \n",
      "9  42.0  80400.0                 1                 0          False   \n",
      "\n",
      "   Region_India  Region_USA  \n",
      "0          True       False  \n",
      "1         False       False  \n",
      "2         False        True  \n",
      "3         False       False  \n",
      "4         False        True  \n",
      "5          True       False  \n",
      "6         False       False  \n",
      "7          True       False  \n",
      "8         False        True  \n",
      "9          True       False  \n"
     ]
    }
   ],
   "source": [
    "#Converting categorical data to numerical data\n",
    "from sklearn.preprocessing import LabelEncoder\n",
    "import category_encoders as ce\n",
    "\n",
    "# Convert 'Region' column to numerical using one-hot encoding\n",
    "df = pd.get_dummies(df,columns=['Region'], prefix='Region')\n",
    "\n",
    "# Convert 'Online Shopper' column to numerical using binary encoding\n",
    "binary_encoder = ce.BinaryEncoder(cols=['Online Shopper'])\n",
    "df = binary_encoder.fit_transform(df)\n",
    "print(df)\n"
   ]
  },
  {
   "cell_type": "code",
   "execution_count": 21,
   "metadata": {},
   "outputs": [
    {
     "name": "stdout",
     "output_type": "stream",
     "text": [
      "         Age        Income  Online Shopper_0  Online Shopper_1  Region_Brazil  \\\n",
      "0  49.000000  86400.000000                 0                 1          False   \n",
      "1  32.000000  57600.000000                 1                 0           True   \n",
      "2  35.000000  64800.000000                 0                 1          False   \n",
      "3  43.000000  73200.000000                 0                 1           True   \n",
      "4  45.000000  76533.333333                 1                 0          False   \n",
      "5  40.000000  69600.000000                 1                 0          False   \n",
      "6  43.777778  62400.000000                 0                 1           True   \n",
      "7  53.000000  94800.000000                 1                 0          False   \n",
      "8  55.000000  99600.000000                 0                 1          False   \n",
      "9  42.000000  80400.000000                 1                 0          False   \n",
      "\n",
      "   Region_India  Region_USA  \n",
      "0          True       False  \n",
      "1         False       False  \n",
      "2         False        True  \n",
      "3         False       False  \n",
      "4         False        True  \n",
      "5          True       False  \n",
      "6         False       False  \n",
      "7          True       False  \n",
      "8         False        True  \n",
      "9          True       False  \n"
     ]
    }
   ],
   "source": [
    "#Filling the missing values\n",
    "df_filled= df.fillna(df.mean())\n",
    "print(df_filled)"
   ]
  },
  {
   "cell_type": "code",
   "execution_count": 27,
   "metadata": {},
   "outputs": [
    {
     "name": "stdout",
     "output_type": "stream",
     "text": [
      "Accuracy: 0.0\n"
     ]
    }
   ],
   "source": [
    "#Splitting the data\n",
    "from sklearn.model_selection import train_test_split\n",
    "from sklearn.linear_model import LogisticRegression\n",
    "from sklearn.metrics import mean_squared_error\n",
    "from sklearn.metrics import accuracy_score\n",
    "from sklearn.preprocessing import StandardScaler\n",
    "x = df_filled.drop(['Online Shopper_0','Online Shopper_1'], axis=1)\n",
    "y = df_filled['Online Shopper_1']\n",
    "#split the data into training and testing sets\n",
    "x_train,x_test,y_train,y_test = train_test_split(x,y, test_size=0.2,random_state=42)\n",
    "# Scale the features\n",
    "scaler = StandardScaler()\n",
    "x_train_scaled = scaler.fit_transform(x_train)\n",
    "x_test_scaled = scaler.transform(x_test)\n",
    "\n",
    "# Train a logistic regression model\n",
    "model = LogisticRegression(max_iter=1000)\n",
    "model.fit(x_train_scaled, y_train)\n",
    "#make predictions\n",
    "y_pred = model.predict(x_test_scaled)\n",
    "y_test_binary = y_test.replace({'Online Shopper_0': 0, 'Online Shopper_1': 1})\n",
    "y_pred_binary = pd.Series(y_pred).replace({'Online Shopper_0': 0, 'Online Shopper_1': 1})\n",
    "\n",
    "\n",
    "# Evaluate the model\n",
    "accuracy = accuracy_score(y_test_binary, y_pred_binary)\n",
    "print(\"Accuracy:\", accuracy)\n",
    "\n",
    "\n",
    "\n"
   ]
  }
 ],
 "metadata": {
  "kernelspec": {
   "display_name": "Python 3",
   "language": "python",
   "name": "python3"
  },
  "language_info": {
   "codemirror_mode": {
    "name": "ipython",
    "version": 3
   },
   "file_extension": ".py",
   "mimetype": "text/x-python",
   "name": "python",
   "nbconvert_exporter": "python",
   "pygments_lexer": "ipython3",
   "version": "3.11.4"
  }
 },
 "nbformat": 4,
 "nbformat_minor": 2
}
